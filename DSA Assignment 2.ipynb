{
 "cells": [
  {
   "cell_type": "markdown",
   "id": "a48b91d7",
   "metadata": {},
   "source": [
    "### Question 1\n",
    "* Given an integer array nums of 2n integers, group these integers into n pairs (a1, b1), (a2, b2),..., (an, bn) such that the sum of min(ai, bi) for all i is maximized. Return the maximized sum."
   ]
  },
  {
   "cell_type": "code",
   "execution_count": 1,
   "id": "bce90cf2",
   "metadata": {},
   "outputs": [],
   "source": [
    "def arrayPairSum(nums):\n",
    "    nums.sort()\n",
    "    max_sum = 0\n",
    "    \n",
    "    for i in range(0, len(nums), 2):\n",
    "        max_sum += nums[i]\n",
    "    \n",
    "    return max_sum"
   ]
  },
  {
   "cell_type": "code",
   "execution_count": 2,
   "id": "76a6c4ad",
   "metadata": {},
   "outputs": [
    {
     "name": "stdout",
     "output_type": "stream",
     "text": [
      "4\n"
     ]
    }
   ],
   "source": [
    "nums = [1, 4, 3, 2]\n",
    "max_sum = arrayPairSum(nums)\n",
    "print(max_sum)"
   ]
  },
  {
   "cell_type": "markdown",
   "id": "4fe25f9c",
   "metadata": {},
   "source": [
    "### Q-2 Alice has n candies, where the ith candy is of type candyType[i]. Alice noticed that she started to gain weight, so she visited a doctor. \n",
    "* The doctor advised Alice to only eat n / 2 of the candies she has (n is always even). Alice likes her candies very much, and she wants to eat the maximum number of different types of candies while still following the doctor's advice. \n",
    "* Given the integer array candyType of length n, return the maximum number of different types of candies she can eat if she only eats n / 2 of them."
   ]
  },
  {
   "cell_type": "code",
   "execution_count": 3,
   "id": "ee8fa609",
   "metadata": {},
   "outputs": [],
   "source": [
    "def distributeCandies(candyType):\n",
    "    unique_count = len(set(candyType))\n",
    "    max_count = len(candyType) // 2\n",
    "    return min(unique_count, max_count)"
   ]
  },
  {
   "cell_type": "code",
   "execution_count": 4,
   "id": "a2de9c5e",
   "metadata": {},
   "outputs": [
    {
     "name": "stdout",
     "output_type": "stream",
     "text": [
      "3\n"
     ]
    }
   ],
   "source": [
    "candyType = [1, 1, 2, 2, 3, 3]\n",
    "max_types = distributeCandies(candyType)\n",
    "print(max_types)"
   ]
  },
  {
   "cell_type": "markdown",
   "id": "f62f7cd2",
   "metadata": {},
   "source": [
    "### Question 3\n",
    "* We define a harmonious array as an array where the difference between its maximum value\n",
    "and its minimum value is exactly 1.\n",
    "* Given an integer array nums, return the length of its longest harmonious subsequence\n",
    "among all its possible subsequences.\n",
    "* A subsequence of an array is a sequence that can be derived from the array by deleting some or no elements without changing the order of the remaining elements."
   ]
  },
  {
   "cell_type": "code",
   "execution_count": 5,
   "id": "9d0277eb",
   "metadata": {},
   "outputs": [],
   "source": [
    "def findLHS(nums):\n",
    "    numFreq = {}\n",
    "    \n",
    "    for num in nums:\n",
    "        numFreq[num] = numFreq.get(num, 0) + 1\n",
    "    \n",
    "    maxLen = 0\n",
    "    \n",
    "    for num in nums:\n",
    "        if num + 1 in numFreq:\n",
    "            length = numFreq[num] + numFreq[num + 1]\n",
    "            if length > maxLen:\n",
    "                maxLen = length\n",
    "    \n",
    "    return maxLen"
   ]
  },
  {
   "cell_type": "code",
   "execution_count": 6,
   "id": "8c7931f9",
   "metadata": {},
   "outputs": [
    {
     "name": "stdout",
     "output_type": "stream",
     "text": [
      "5\n"
     ]
    }
   ],
   "source": [
    "nums = [1, 3, 2, 2, 5, 2, 3, 7]\n",
    "max_length = findLHS(nums)\n",
    "print(max_length)"
   ]
  },
  {
   "cell_type": "markdown",
   "id": "da28756e",
   "metadata": {},
   "source": [
    "### Question 4\n",
    "* You have a long flowerbed in which some of the plots are planted, and some are not.\n",
    "* However, flowers cannot be planted in adjacent plots.\n",
    "* Given an integer array flowerbed containing 0's and 1's, where 0 means empty and 1 means not empty, and an integer n, return true if n new flowers can be planted in the flowerbed without violating the no-adjacent-flowers rule and false otherwise."
   ]
  },
  {
   "cell_type": "code",
   "execution_count": 7,
   "id": "cc50efae",
   "metadata": {},
   "outputs": [],
   "source": [
    "def canPlaceFlowers(flowerbed, n):\n",
    "    count = 0\n",
    "    \n",
    "    for i in range(len(flowerbed)):\n",
    "        if (\n",
    "            flowerbed[i] == 0 and\n",
    "            (i == 0 or flowerbed[i - 1] == 0) and\n",
    "            (i == len(flowerbed) - 1 or flowerbed[i + 1] == 0)\n",
    "        ):\n",
    "            flowerbed[i] = 1\n",
    "            count += 1\n",
    "            if count >= n:\n",
    "                return True\n",
    "    \n",
    "    return count >= n"
   ]
  },
  {
   "cell_type": "code",
   "execution_count": 8,
   "id": "2e9380c8",
   "metadata": {},
   "outputs": [
    {
     "name": "stdout",
     "output_type": "stream",
     "text": [
      "True\n"
     ]
    }
   ],
   "source": [
    "flowerbed = [1, 0, 0, 0, 1]\n",
    "n = 1\n",
    "can_plant = canPlaceFlowers(flowerbed, n)\n",
    "print(can_plant)"
   ]
  },
  {
   "cell_type": "markdown",
   "id": "4fcdf7ae",
   "metadata": {},
   "source": [
    "### Question 5\n",
    "* Given an integer array nums, find three numbers whose product is maximum and return the maximum product."
   ]
  },
  {
   "cell_type": "code",
   "execution_count": 9,
   "id": "431a1d09",
   "metadata": {},
   "outputs": [],
   "source": [
    "def maximumProduct(nums):\n",
    "    nums.sort()\n",
    "    n = len(nums)\n",
    "    max_product = nums[n - 1] * nums[n - 2] * nums[n - 3]\n",
    "    alternate_product = nums[0] * nums[1] * nums[n - 1]\n",
    "    return max(max_product, alternate_product)"
   ]
  },
  {
   "cell_type": "code",
   "execution_count": 10,
   "id": "1320930b",
   "metadata": {},
   "outputs": [
    {
     "name": "stdout",
     "output_type": "stream",
     "text": [
      "168\n"
     ]
    }
   ],
   "source": [
    "nums = [1, 2, 3, 4,2,7,6]\n",
    "max_prod = maximumProduct(nums)\n",
    "print(max_prod)"
   ]
  },
  {
   "cell_type": "markdown",
   "id": "066f210f",
   "metadata": {},
   "source": [
    "### Question 6\n",
    "* Given an array of integers nums which is sorted in ascending order, and an integer target,\n",
    "* write a function to search target in nums. If target exists, then return its index. Otherwise, return -1.\n",
    "* You must write an algorithm with O(log n) runtime complexity."
   ]
  },
  {
   "cell_type": "code",
   "execution_count": 11,
   "id": "8d44f429",
   "metadata": {},
   "outputs": [],
   "source": [
    "def search(nums, target):\n",
    "    left, right = 0, len(nums) - 1\n",
    "    \n",
    "    while left <= right:\n",
    "        mid = (left + right) // 2\n",
    "        \n",
    "        if nums[mid] == target:\n",
    "            return mid\n",
    "        elif nums[mid] < target:\n",
    "            left = mid + 1\n",
    "        else:\n",
    "            right = mid - 1\n",
    "    \n",
    "    return -1"
   ]
  },
  {
   "cell_type": "code",
   "execution_count": 12,
   "id": "a39256ee",
   "metadata": {},
   "outputs": [
    {
     "name": "stdout",
     "output_type": "stream",
     "text": [
      "5\n"
     ]
    }
   ],
   "source": [
    "nums = [-1,0,3,5,8,6, 9, 12]\n",
    "target = 6\n",
    "index = search(nums, target)\n",
    "print(index)"
   ]
  },
  {
   "cell_type": "markdown",
   "id": "45694749",
   "metadata": {},
   "source": [
    "### Q-7 An array is monotonic if it is either monotone increasing or monotone decreasing.\n",
    "* An array nums is monotone increasing if for all i <= j, nums[i] <= nums[j]. An array nums is\n",
    "monotone decreasing if for all i <= j, nums[i] >= nums[j].\n",
    "* Given an integer array nums, return true if the given array is monotonic, or false otherwise."
   ]
  },
  {
   "cell_type": "code",
   "execution_count": 13,
   "id": "22d95799",
   "metadata": {},
   "outputs": [],
   "source": [
    "def isMonotonic(nums):\n",
    "    isIncreasing = True\n",
    "    isDecreasing = True\n",
    "    \n",
    "    for i in range(1, len(nums)):\n",
    "        if nums[i] < nums[i - 1]:\n",
    "            isIncreasing = False\n",
    "        if nums[i] > nums[i - 1]:\n",
    "            isDecreasing = False\n",
    "        if not isIncreasing and not isDecreasing:\n",
    "            return False\n",
    "    \n",
    "    return True"
   ]
  },
  {
   "cell_type": "code",
   "execution_count": 14,
   "id": "9cf16d20",
   "metadata": {},
   "outputs": [
    {
     "name": "stdout",
     "output_type": "stream",
     "text": [
      "True\n"
     ]
    }
   ],
   "source": [
    "nums = [1, 2, 4, 4, 5]\n",
    "is_monotonic = isMonotonic(nums)\n",
    "print(is_monotonic)"
   ]
  },
  {
   "cell_type": "markdown",
   "id": "a23cfcfb",
   "metadata": {},
   "source": [
    "### Question 8\n",
    "* You are given an integer array nums and an integer k.\n",
    "* In one operation, you can choose any index i where 0 <= i < nums.length and change nums[i] to nums[i] + x where x is an integer from the range [-k, k]. You can apply this operation at most once for each index i.\n",
    "* The score of nums is the difference between the maximum and minimum elements in nums.\n",
    "* Return the minimum score of nums after applying the mentioned operation at most once for each index in it."
   ]
  },
  {
   "cell_type": "code",
   "execution_count": 15,
   "id": "d5b92e12",
   "metadata": {},
   "outputs": [],
   "source": [
    "def minimumScore(nums, k):\n",
    "    minimum = min(nums)\n",
    "    maximum = max(nums)\n",
    "    initial_score = maximum - minimum\n",
    "    \n",
    "    if initial_score == 0:\n",
    "        return 0\n",
    "    \n",
    "    min_score = initial_score\n",
    "    \n",
    "    for num in nums:\n",
    "        if num - k >= minimum and num - k <= maximum:\n",
    "            min_score = min(min_score, maximum - (num - k))\n",
    "        if num + k >= minimum and num + k <= maximum:\n",
    "            min_score = min(min_score, (num + k) - minimum)\n",
    "    \n",
    "    return min_score"
   ]
  },
  {
   "cell_type": "code",
   "execution_count": 16,
   "id": "d646464e",
   "metadata": {},
   "outputs": [
    {
     "name": "stdout",
     "output_type": "stream",
     "text": [
      "2\n"
     ]
    }
   ],
   "source": [
    "nums = [1, 3, 5]\n",
    "k = 2\n",
    "min_score = minimumScore(nums, k)\n",
    "print(min_score) "
   ]
  },
  {
   "cell_type": "code",
   "execution_count": null,
   "id": "a368d34b",
   "metadata": {},
   "outputs": [],
   "source": []
  }
 ],
 "metadata": {
  "kernelspec": {
   "display_name": "Python 3 (ipykernel)",
   "language": "python",
   "name": "python3"
  },
  "language_info": {
   "codemirror_mode": {
    "name": "ipython",
    "version": 3
   },
   "file_extension": ".py",
   "mimetype": "text/x-python",
   "name": "python",
   "nbconvert_exporter": "python",
   "pygments_lexer": "ipython3",
   "version": "3.10.9"
  }
 },
 "nbformat": 4,
 "nbformat_minor": 5
}
