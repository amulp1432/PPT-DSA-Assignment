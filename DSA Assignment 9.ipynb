{
 "cells": [
  {
   "cell_type": "markdown",
   "id": "dcc0be07",
   "metadata": {},
   "source": [
    "### Q-1 Given an integer `n`, return *`true` if it is a power of two. Otherwise, return `false`*."
   ]
  },
  {
   "cell_type": "code",
   "execution_count": 1,
   "id": "4f3c9f06",
   "metadata": {},
   "outputs": [
    {
     "name": "stdout",
     "output_type": "stream",
     "text": [
      "Enter an integer: 8\n",
      "True\n"
     ]
    }
   ],
   "source": [
    "def is_power_of_two(n):\n",
    "    if n == 1:\n",
    "        return True\n",
    "    elif n % 2 == 0 and n > 0:\n",
    "        return is_power_of_two(n // 2)\n",
    "    else:\n",
    "        return False\n",
    "\n",
    "# Test the function\n",
    "n = int(input(\"Enter an integer: \"))\n",
    "result = is_power_of_two(n)\n",
    "print(result)"
   ]
  },
  {
   "cell_type": "markdown",
   "id": "714acd0c",
   "metadata": {},
   "source": [
    "### Q-2: Given a number n, find the sum of the first natural numbers.\n"
   ]
  },
  {
   "cell_type": "code",
   "execution_count": 2,
   "id": "b940bbbe",
   "metadata": {},
   "outputs": [
    {
     "name": "stdout",
     "output_type": "stream",
     "text": [
      "Enter a positive integer: 8\n",
      "The sum of the first 8 natural numbers is: 36\n"
     ]
    }
   ],
   "source": [
    "def sum_of_natural_numbers(n):\n",
    "    if n == 1:\n",
    "        return 1\n",
    "    else:\n",
    "        return n + sum_of_natural_numbers(n - 1)\n",
    "\n",
    "n = int(input(\"Enter a positive integer: \"))\n",
    "result = sum_of_natural_numbers(n)\n",
    "print(\"The sum of the first\", n, \"natural numbers is:\", result)\n"
   ]
  },
  {
   "cell_type": "markdown",
   "id": "8beacb6c",
   "metadata": {},
   "source": [
    "### Q-3: Given a positive integer, N. Find the factorial of N. "
   ]
  },
  {
   "cell_type": "code",
   "execution_count": 3,
   "id": "d6ded209",
   "metadata": {},
   "outputs": [
    {
     "name": "stdout",
     "output_type": "stream",
     "text": [
      "Enter a positive integer: 6\n",
      "The factorial of 6 is: 720\n"
     ]
    }
   ],
   "source": [
    "def factorial(n):\n",
    "    if n == 0:\n",
    "        return 1\n",
    "    else:\n",
    "        return n * factorial(n - 1)\n",
    "\n",
    "# Test the function\n",
    "n = int(input(\"Enter a positive integer: \"))\n",
    "result = factorial(n)\n",
    "print(\"The factorial of\", n, \"is:\", result)"
   ]
  },
  {
   "cell_type": "markdown",
   "id": "e83c0df9",
   "metadata": {},
   "source": [
    "### Q-4: Given a number N and a power P, the task is to find the exponent of this number raised to the given power, i.e. N^P.\n"
   ]
  },
  {
   "cell_type": "code",
   "execution_count": 4,
   "id": "0c9a6d03",
   "metadata": {},
   "outputs": [
    {
     "name": "stdout",
     "output_type": "stream",
     "text": [
      "Enter the base number: 2\n",
      "Enter the power: 4\n",
      "2 raised to the power 4 is: 16\n"
     ]
    }
   ],
   "source": [
    "def power(N, P):\n",
    "    if P == 0:\n",
    "        return 1\n",
    "    else:\n",
    "        return N * power(N, P - 1)\n",
    "\n",
    "# Test the function\n",
    "N = int(input(\"Enter the base number: \"))\n",
    "P = int(input(\"Enter the power: \"))\n",
    "result = power(N, P)\n",
    "print(N, \"raised to the power\", P, \"is:\", result)"
   ]
  },
  {
   "cell_type": "markdown",
   "id": "726e3645",
   "metadata": {},
   "source": [
    "### Q-5: Given an array of integers arr, the task is to find maximum element of that array using recursion."
   ]
  },
  {
   "cell_type": "code",
   "execution_count": 5,
   "id": "9a953ad1",
   "metadata": {},
   "outputs": [
    {
     "name": "stdout",
     "output_type": "stream",
     "text": [
      "Enter the array elements (space-separated): 5 6 8 98 132 65\n",
      "The maximum element in the array is: 132\n"
     ]
    }
   ],
   "source": [
    "def find_maximum(arr):\n",
    "    if len(arr) == 1:\n",
    "        return arr[0]\n",
    "    else:\n",
    "        return max(arr[0], find_maximum(arr[1:]))\n",
    "\n",
    "# Test the function\n",
    "arr = list(map(int, input(\"Enter the array elements (space-separated): \").split()))\n",
    "result = find_maximum(arr)\n",
    "print(\"The maximum element in the array is:\", result)"
   ]
  },
  {
   "cell_type": "markdown",
   "id": "9f9dde46",
   "metadata": {},
   "source": [
    "### Q-6: Given first term (a), common difference (d) and a integer N of the Arithmetic Progression series, the task is to find Nth term of the series."
   ]
  },
  {
   "cell_type": "code",
   "execution_count": 6,
   "id": "feef56d3",
   "metadata": {},
   "outputs": [
    {
     "name": "stdout",
     "output_type": "stream",
     "text": [
      "Enter the first term (a) of the AP series: 1\n",
      "Enter the common difference (d) of the AP series: 2\n",
      "Enter the integer N to find the Nth term: 10\n",
      "The 10 term of the AP series is: 19\n"
     ]
    }
   ],
   "source": [
    "def nth_term_of_ap(a, d, N):\n",
    "    if N == 1:\n",
    "        return a\n",
    "    else:\n",
    "        return nth_term_of_ap(a + d, d, N - 1)\n",
    "\n",
    "# Test the function\n",
    "a = int(input(\"Enter the first term (a) of the AP series: \"))\n",
    "d = int(input(\"Enter the common difference (d) of the AP series: \"))\n",
    "N = int(input(\"Enter the integer N to find the Nth term: \"))\n",
    "result = nth_term_of_ap(a, d, N)\n",
    "print(\"The\", N, \"term of the AP series is:\", result)\n"
   ]
  },
  {
   "cell_type": "markdown",
   "id": "01d3d7d5",
   "metadata": {},
   "source": [
    "### Q-8: Given an array, find a product of all array elements."
   ]
  },
  {
   "cell_type": "code",
   "execution_count": 7,
   "id": "c04ea0de",
   "metadata": {},
   "outputs": [
    {
     "name": "stdout",
     "output_type": "stream",
     "text": [
      "Enter the array elements (space-separated): 5 4 1 2 3 4\n",
      "The product of all array elements is: 480\n"
     ]
    }
   ],
   "source": [
    "def product_of_array(arr, n):\n",
    "    if n == 0:\n",
    "        return arr[0]\n",
    "    else:\n",
    "        return arr[n] * product_of_array(arr, n - 1)\n",
    "\n",
    "# Test the function\n",
    "arr = list(map(int, input(\"Enter the array elements (space-separated): \").split()))\n",
    "n = len(arr) - 1\n",
    "result = product_of_array(arr, n)\n",
    "print(\"The product of all array elements is:\", result)"
   ]
  }
 ],
 "metadata": {
  "kernelspec": {
   "display_name": "Python 3 (ipykernel)",
   "language": "python",
   "name": "python3"
  },
  "language_info": {
   "codemirror_mode": {
    "name": "ipython",
    "version": 3
   },
   "file_extension": ".py",
   "mimetype": "text/x-python",
   "name": "python",
   "nbconvert_exporter": "python",
   "pygments_lexer": "ipython3",
   "version": "3.10.9"
  }
 },
 "nbformat": 4,
 "nbformat_minor": 5
}
