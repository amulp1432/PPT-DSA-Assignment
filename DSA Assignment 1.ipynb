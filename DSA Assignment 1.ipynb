{
 "cells": [
  {
   "cell_type": "markdown",
   "id": "c9a72ae2",
   "metadata": {},
   "source": [
    "# Assignment-1   Arrays"
   ]
  },
  {
   "cell_type": "markdown",
   "id": "e64231f5",
   "metadata": {},
   "source": [
    "### Q-1 Given an array of integers nums and an integer target, return indices of the two numbers such that they add up to target.\n",
    "* You may assume that each input would have exactly one solution, and you may not use the same element twice.\n",
    "* You can return the answer in any order."
   ]
  },
  {
   "cell_type": "code",
   "execution_count": 1,
   "id": "fba31d79",
   "metadata": {},
   "outputs": [],
   "source": [
    "def twoSum(nums, target):\n",
    "    num_map = {}\n",
    "    \n",
    "    for i, num in enumerate(nums):\n",
    "        complement = target - num\n",
    "        if complement in num_map:\n",
    "            return [num_map[complement], i]\n",
    "        num_map[num] = i\n",
    "    \n",
    "    return [] "
   ]
  },
  {
   "cell_type": "code",
   "execution_count": 2,
   "id": "e2ff8884",
   "metadata": {},
   "outputs": [
    {
     "name": "stdout",
     "output_type": "stream",
     "text": [
      "[0, 1]\n"
     ]
    }
   ],
   "source": [
    "nums = [2, 7, 11, 15]\n",
    "target = 9\n",
    "result = twoSum(nums, target)\n",
    "print(result)  "
   ]
  },
  {
   "cell_type": "markdown",
   "id": "456161fc",
   "metadata": {},
   "source": [
    "### Q2. Given an integer array nums and an integer val, remove all occurrences of val in nums in-place. The order of the elements may be changed. Then return the number of elements in nums which are not equal to val.\n",
    "* Consider the number of elements in nums which are not equal to val be k, to get accepted, you need to do the following things:\n",
    "* Change the array nums such that the first k elements of nums contain the elements which are not equal to val. The  remaining elements of nums are not important as well as the size of nums."
   ]
  },
  {
   "cell_type": "code",
   "execution_count": 3,
   "id": "e34959d0",
   "metadata": {},
   "outputs": [],
   "source": [
    "def removeElement(nums, val):\n",
    "    k = 0\n",
    "    \n",
    "    for i in range(len(nums)):\n",
    "        if nums[i] != val:\n",
    "            nums[k] = nums[i]\n",
    "            k += 1\n",
    "    \n",
    "    return k"
   ]
  },
  {
   "cell_type": "code",
   "execution_count": 4,
   "id": "51d52810",
   "metadata": {},
   "outputs": [
    {
     "name": "stdout",
     "output_type": "stream",
     "text": [
      "2\n",
      "[2, 2, 2, 3]\n"
     ]
    }
   ],
   "source": [
    "nums = [3, 2, 2, 3]\n",
    "val = 3\n",
    "k = removeElement(nums, val)\n",
    "print(k)  \n",
    "print(nums)"
   ]
  },
  {
   "cell_type": "markdown",
   "id": "ded0c75d",
   "metadata": {},
   "source": [
    "### Q3. Given a sorted array of distinct integers and a target value, return the index if the target is found. If not, return the index where it would be if it were inserted in order.\n",
    "* You must write an algorithm with O(log n) runtime complexity."
   ]
  },
  {
   "cell_type": "code",
   "execution_count": 5,
   "id": "72dd6ee4",
   "metadata": {},
   "outputs": [],
   "source": [
    "def searchInsert(nums, target):\n",
    "    left, right = 0, len(nums) - 1\n",
    "    \n",
    "    while left <= right:\n",
    "        mid = (left + right) // 2\n",
    "        \n",
    "        if nums[mid] == target:\n",
    "            return mid\n",
    "        elif nums[mid] < target:\n",
    "            left = mid + 1\n",
    "        else:\n",
    "            right = mid - 1\n",
    "    \n",
    "    return left"
   ]
  },
  {
   "cell_type": "code",
   "execution_count": 6,
   "id": "1cfed9ae",
   "metadata": {},
   "outputs": [
    {
     "name": "stdout",
     "output_type": "stream",
     "text": [
      "1\n"
     ]
    }
   ],
   "source": [
    "nums = [1, 3, 5, 6]\n",
    "target = 3\n",
    "index = searchInsert(nums, target)\n",
    "print(index)  "
   ]
  },
  {
   "cell_type": "markdown",
   "id": "45d242e3",
   "metadata": {},
   "source": [
    "### Q4. You are given a large integer represented as an integer array digits, where each digits[i] is the ith digit of the integer. The digits are ordered from most significant to least significant in left-to-right order. The large integer does not contain any leading 0's.\n",
    "* Increment the large integer by one and return the resulting array of digits.\n"
   ]
  },
  {
   "cell_type": "code",
   "execution_count": 7,
   "id": "7347425f",
   "metadata": {},
   "outputs": [
    {
     "name": "stdout",
     "output_type": "stream",
     "text": [
      "[1, 2, 6]\n"
     ]
    }
   ],
   "source": [
    "def plusOne(digits):\n",
    "    n = len(digits)\n",
    "    \n",
    "    for i in range(n - 1, -1, -1):\n",
    "        digits[i] += 1\n",
    "        if digits[i] < 10:\n",
    "            return digits\n",
    "        digits[i] = 0\n",
    "    \n",
    "    digits.insert(0, 1)\n",
    "    return digits\n",
    "\n",
    "# Example usage\n",
    "digits = [1, 2, 5]\n",
    "result = plusOne(digits)\n",
    "print(result)  \n"
   ]
  },
  {
   "cell_type": "markdown",
   "id": "b1f4c1f7",
   "metadata": {},
   "source": [
    "### Q5. You are given two integer arrays nums1 and nums2, sorted in non-decreasing order, and two integers m and n, representing the number of elements in nums1 and nums2 respectively.\n",
    "* Merge nums1 and nums2 into a single array sorted in non-decreasing order.\n",
    "* The final sorted array should not be returned by the function, but instead be stored inside the array nums1. To accommodate this, nums1 has a length of m + n, where the first m elements denote the elements that should be merged, and the last n elements are set to 0 and should be ignored. nums2 has a length of n."
   ]
  },
  {
   "cell_type": "code",
   "execution_count": 8,
   "id": "475e708f",
   "metadata": {},
   "outputs": [],
   "source": [
    "def merge(nums1, m, nums2, n):\n",
    "    p1, p2, p = m - 1, n - 1, m + n - 1\n",
    "    \n",
    "    while p1 >= 0 and p2 >= 0:\n",
    "        if nums1[p1] >= nums2[p2]:\n",
    "            nums1[p] = nums1[p1]\n",
    "            p1 -= 1\n",
    "        else:\n",
    "            nums1[p] = nums2[p2]\n",
    "            p2 -= 1\n",
    "        p -= 1\n",
    "    \n",
    "    while p2 >= 0:\n",
    "        nums1[p] = nums2[p2]\n",
    "        p2 -= 1\n",
    "        p -= 1"
   ]
  },
  {
   "cell_type": "code",
   "execution_count": 9,
   "id": "aaa0d0a6",
   "metadata": {},
   "outputs": [
    {
     "name": "stdout",
     "output_type": "stream",
     "text": [
      "[1, 2, 2, 3, 5, 6]\n"
     ]
    }
   ],
   "source": [
    "nums1 = [1, 2, 3, 0, 0, 0]\n",
    "m = 3\n",
    "nums2 = [2, 5, 6]\n",
    "n = 3\n",
    "\n",
    "merge(nums1, m, nums2, n)\n",
    "print(nums1) "
   ]
  },
  {
   "cell_type": "markdown",
   "id": "fafb19b2",
   "metadata": {},
   "source": [
    "### Q6. Given an integer array nums, return true if any value appears at least twice in the array, and return false if every element is distinct."
   ]
  },
  {
   "cell_type": "code",
   "execution_count": 10,
   "id": "16a4efdf",
   "metadata": {},
   "outputs": [],
   "source": [
    "def containsDuplicate(nums):\n",
    "    num_set = set()\n",
    "    \n",
    "    for num in nums:\n",
    "        if num in num_set:\n",
    "            return True\n",
    "        num_set.add(num)\n",
    "    \n",
    "    return False"
   ]
  },
  {
   "cell_type": "code",
   "execution_count": 11,
   "id": "f370df25",
   "metadata": {},
   "outputs": [
    {
     "name": "stdout",
     "output_type": "stream",
     "text": [
      "True\n"
     ]
    }
   ],
   "source": [
    "nums = [1, 2, 3, 1]\n",
    "contains_duplicate = containsDuplicate(nums)\n",
    "print(contains_duplicate)  "
   ]
  },
  {
   "cell_type": "markdown",
   "id": "543f1c08",
   "metadata": {},
   "source": [
    "### Q7. Given an integer array nums, move all 0's to the end of it while maintaining the relative order of the nonzero elements.\n",
    "* Note that you must do this in-place without making a copy of the array.\n"
   ]
  },
  {
   "cell_type": "code",
   "execution_count": 12,
   "id": "ce1e1182",
   "metadata": {},
   "outputs": [],
   "source": [
    "def moveZeroes(nums):\n",
    "    n = len(nums)\n",
    "    j = 0\n",
    "    \n",
    "    for i in range(n):\n",
    "        if nums[i] != 0:\n",
    "            nums[i], nums[j] = nums[j], nums[i]\n",
    "            j += 1\n",
    "    \n",
    "    for i in range(j, n):\n",
    "        nums[i] = 0"
   ]
  },
  {
   "cell_type": "code",
   "execution_count": 13,
   "id": "4fa3a6bf",
   "metadata": {},
   "outputs": [
    {
     "name": "stdout",
     "output_type": "stream",
     "text": [
      "[1, 3, 12, 0, 0]\n"
     ]
    }
   ],
   "source": [
    "nums = [0, 1, 0, 3, 12]\n",
    "moveZeroes(nums)\n",
    "print(nums)  "
   ]
  },
  {
   "cell_type": "markdown",
   "id": "32b8f98a",
   "metadata": {},
   "source": [
    "### Q8. You have a set of integers s, which originally contains all the numbers from 1 to n. Unfortunately, due to some error, one of the numbers in s got duplicated to another number in the set, which results in repetition of one number and loss of another number.\n",
    "* You are given an integer array nums representing the data status of this set after the error.\n",
    "* Find the number that occurs twice and the number that is missing and return them in the form of an array."
   ]
  },
  {
   "cell_type": "code",
   "execution_count": 14,
   "id": "876d7044",
   "metadata": {},
   "outputs": [],
   "source": [
    "def findErrorNums(nums):\n",
    "    numSet = set()\n",
    "    duplicate = -1\n",
    "    missing = -1\n",
    "    \n",
    "    for num in nums:\n",
    "        if num in numSet:\n",
    "            duplicate = num\n",
    "        numSet.add(num)\n",
    "    \n",
    "    for i in range(1, len(nums) + 1):\n",
    "        if i not in numSet:\n",
    "            missing = i\n",
    "            break\n",
    "    \n",
    "    return [duplicate, missing]"
   ]
  },
  {
   "cell_type": "code",
   "execution_count": 15,
   "id": "f241a58a",
   "metadata": {},
   "outputs": [
    {
     "name": "stdout",
     "output_type": "stream",
     "text": [
      "[3, 5]\n"
     ]
    }
   ],
   "source": [
    "nums = [1, 2, 3,3,4,6]\n",
    "result = findErrorNums(nums)\n",
    "print(result) "
   ]
  }
 ],
 "metadata": {
  "kernelspec": {
   "display_name": "Python 3 (ipykernel)",
   "language": "python",
   "name": "python3"
  },
  "language_info": {
   "codemirror_mode": {
    "name": "ipython",
    "version": 3
   },
   "file_extension": ".py",
   "mimetype": "text/x-python",
   "name": "python",
   "nbconvert_exporter": "python",
   "pygments_lexer": "ipython3",
   "version": "3.10.9"
  }
 },
 "nbformat": 4,
 "nbformat_minor": 5
}
