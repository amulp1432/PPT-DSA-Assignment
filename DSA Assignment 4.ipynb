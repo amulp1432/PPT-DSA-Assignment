{
 "cells": [
  {
   "cell_type": "markdown",
   "id": "225baebe",
   "metadata": {},
   "source": [
    "### 1. Given three integer arrays arr1, arr2 and arr3 sorted in strictly increasing order, return a sorted array of only the integers that appeared in all three arrays."
   ]
  },
  {
   "cell_type": "code",
   "execution_count": 1,
   "id": "183fe090",
   "metadata": {},
   "outputs": [],
   "source": [
    "def arraysIntersection(arr1, arr2, arr3):\n",
    "    p1, p2, p3 = 0, 0, 0\n",
    "    result = []\n",
    "\n",
    "    while p1 < len(arr1) and p2 < len(arr2) and p3 < len(arr3):\n",
    "        if arr1[p1] == arr2[p2] == arr3[p3]:\n",
    "            result.append(arr1[p1])\n",
    "            p1 += 1\n",
    "            p2 += 1\n",
    "            p3 += 1\n",
    "        elif arr1[p1] <= arr2[p2] and arr1[p1] <= arr3[p3]:\n",
    "            p1 += 1\n",
    "        elif arr2[p2] <= arr1[p1] and arr2[p2] <= arr3[p3]:\n",
    "            p2 += 1\n",
    "        else:\n",
    "            p3 += 1\n",
    "\n",
    "    return result\n"
   ]
  },
  {
   "cell_type": "code",
   "execution_count": 2,
   "id": "97b23774",
   "metadata": {},
   "outputs": [
    {
     "name": "stdout",
     "output_type": "stream",
     "text": [
      "[1, 5]\n"
     ]
    }
   ],
   "source": [
    "arr1 = [1, 2, 3, 4, 5]\n",
    "arr2 = [1, 3, 5, 7, 9]\n",
    "arr3 = [1, 4, 5, 8, 10]\n",
    "result = arraysIntersection(arr1, arr2, arr3)\n",
    "print(result)\n"
   ]
  },
  {
   "cell_type": "markdown",
   "id": "f8c1fced",
   "metadata": {},
   "source": [
    "### 2. Given two **0-indexed** integer arrays nums1 and nums2, return *a list* answer *of size* 2 *where:*\n",
    "* answer[0] *is a list of all **distinct** integers in* nums1 *which are **not** present in* nums2*.*\n",
    "* answer[1] *is a list of all **distinct** integers in* nums2 *which are **not** present in* nums1."
   ]
  },
  {
   "cell_type": "code",
   "execution_count": 3,
   "id": "a886e94f",
   "metadata": {},
   "outputs": [],
   "source": [
    "def findDisappearedNumbers(nums1, nums2):\n",
    "    set1 = set(nums1)\n",
    "    set2 = set(nums2)\n",
    "\n",
    "    diff1 = set1 - set2\n",
    "    diff2 = set2 - set1\n",
    "\n",
    "    return [list(diff1), list(diff2)]"
   ]
  },
  {
   "cell_type": "code",
   "execution_count": 4,
   "id": "53541a21",
   "metadata": {},
   "outputs": [
    {
     "name": "stdout",
     "output_type": "stream",
     "text": [
      "[[1], [5]]\n"
     ]
    }
   ],
   "source": [
    "nums1 = [4, 3, 2, 7, 8, 2, 3, 1]\n",
    "nums2 = [5, 7, 8, 2, 3, 4]\n",
    "result = findDisappearedNumbers(nums1, nums2)\n",
    "print(result)\n"
   ]
  },
  {
   "cell_type": "markdown",
   "id": "35970ea8",
   "metadata": {},
   "source": [
    "### 3.  Given a 2D integer array matrix, return *the **transpose** of* matrix.\n",
    "* The **transpose** of a matrix is the matrix flipped over its main diagonal, switching the matrix's row and column indices."
   ]
  },
  {
   "cell_type": "code",
   "execution_count": 5,
   "id": "44f5ad7b",
   "metadata": {},
   "outputs": [],
   "source": [
    "def transpose(matrix):\n",
    "    rows = len(matrix)\n",
    "    cols = len(matrix[0])\n",
    "    transpose = [[0 for _ in range(rows)] for _ in range(cols)]\n",
    "\n",
    "    for i in range(rows):\n",
    "        for j in range(cols):\n",
    "            transpose[j][i] = matrix[i][j]\n",
    "\n",
    "    return transpose"
   ]
  },
  {
   "cell_type": "code",
   "execution_count": 6,
   "id": "2f55ed82",
   "metadata": {},
   "outputs": [
    {
     "name": "stdout",
     "output_type": "stream",
     "text": [
      "[[1, 4, 7], [2, 5, 8], [3, 6, 9]]\n"
     ]
    }
   ],
   "source": [
    "matrix = [[1, 2, 3], [4, 5, 6], [7, 8, 9]]\n",
    "result = transpose(matrix)\n",
    "print(result)\n"
   ]
  },
  {
   "cell_type": "markdown",
   "id": "1c544381",
   "metadata": {},
   "source": [
    "### 4. Given an integer array nums of 2n integers, group these integers into n pairs (a1, b1), (a2, b2), ..., (an, bn) such that the sum of min(ai, bi) for all i is maximized. Return the maximized sum."
   ]
  },
  {
   "cell_type": "code",
   "execution_count": 7,
   "id": "bbad746b",
   "metadata": {},
   "outputs": [],
   "source": [
    "def arrayPairSum(nums):\n",
    "    nums.sort()\n",
    "    max_sum = 0\n",
    "\n",
    "    for i in range(0, len(nums), 2):\n",
    "        max_sum += min(nums[i], nums[i+1])\n",
    "\n",
    "    return max_sum"
   ]
  },
  {
   "cell_type": "code",
   "execution_count": 8,
   "id": "19506955",
   "metadata": {},
   "outputs": [
    {
     "name": "stdout",
     "output_type": "stream",
     "text": [
      "4\n"
     ]
    }
   ],
   "source": [
    "nums = [1, 4, 3, 2]\n",
    "result = arrayPairSum(nums)\n",
    "print(result)"
   ]
  },
  {
   "cell_type": "markdown",
   "id": "145cb361",
   "metadata": {},
   "source": [
    "### 6. Given an integer array nums sorted in non-decreasing order, return an array of the squares of each number sorted in non-decreasing order."
   ]
  },
  {
   "cell_type": "code",
   "execution_count": 9,
   "id": "e1936b31",
   "metadata": {},
   "outputs": [],
   "source": [
    "def sortedSquares(nums):\n",
    "    left = 0\n",
    "    right = len(nums) - 1\n",
    "    result = []\n",
    "\n",
    "    while left <= right:\n",
    "        if abs(nums[left]) >= abs(nums[right]):\n",
    "            result.append(nums[left] ** 2)\n",
    "            left += 1\n",
    "        else:\n",
    "            result.append(nums[right] ** 2)\n",
    "            right -= 1\n",
    "\n",
    "    return result[::-1]"
   ]
  },
  {
   "cell_type": "code",
   "execution_count": 10,
   "id": "57534d1a",
   "metadata": {},
   "outputs": [
    {
     "name": "stdout",
     "output_type": "stream",
     "text": [
      "[0, 1, 9, 16, 100]\n"
     ]
    }
   ],
   "source": [
    "nums = [-4, -1, 0, 3, 10]\n",
    "result = sortedSquares(nums)\n",
    "print(result)"
   ]
  },
  {
   "cell_type": "markdown",
   "id": "a8a81bf8",
   "metadata": {},
   "source": [
    "### 8. Given the array nums consisting of 2n elements in the form [x1,x2,...,xn,y1,y2,...,yn].\n",
    "* Return the array in the form* [x1,y1,x2,y2,...,xn,yn]."
   ]
  },
  {
   "cell_type": "code",
   "execution_count": 11,
   "id": "a67892ec",
   "metadata": {},
   "outputs": [],
   "source": [
    "def shuffle(nums, n):\n",
    "    x = nums[:n]\n",
    "    y = nums[n:]\n",
    "    result = []\n",
    "\n",
    "    for i in range(n):\n",
    "        result.append(x[i])\n",
    "        result.append(y[i])\n",
    "\n",
    "    if len(x) > n:\n",
    "        result.extend(x[n:])\n",
    "    elif len(y) > n:\n",
    "        result.extend(y[n:])\n",
    "\n",
    "    return result"
   ]
  },
  {
   "cell_type": "code",
   "execution_count": 12,
   "id": "14f3ddb2",
   "metadata": {},
   "outputs": [
    {
     "name": "stdout",
     "output_type": "stream",
     "text": [
      "[1, 4, 2, 5, 3, 6]\n"
     ]
    }
   ],
   "source": [
    "nums = [1, 2, 3, 4, 5, 6]\n",
    "n = 3\n",
    "result = shuffle(nums, n)\n",
    "print(result)"
   ]
  },
  {
   "cell_type": "code",
   "execution_count": null,
   "id": "6e018b97",
   "metadata": {},
   "outputs": [],
   "source": []
  }
 ],
 "metadata": {
  "kernelspec": {
   "display_name": "Python 3 (ipykernel)",
   "language": "python",
   "name": "python3"
  },
  "language_info": {
   "codemirror_mode": {
    "name": "ipython",
    "version": 3
   },
   "file_extension": ".py",
   "mimetype": "text/x-python",
   "name": "python",
   "nbconvert_exporter": "python",
   "pygments_lexer": "ipython3",
   "version": "3.10.9"
  }
 },
 "nbformat": 4,
 "nbformat_minor": 5
}
