{
 "cells": [
  {
   "cell_type": "markdown",
   "id": "389cce93",
   "metadata": {},
   "source": [
    "### Sol 1 Given two strings s and t, *determine if they are isomorphic*.Two strings s and t are isomorphic if the characters in s can be replaced to get t.All occurrences of a character must be replaced with another character while preserving the order of characters. No two characters may map to the same character, but a character may map to itself."
   ]
  },
  {
   "cell_type": "code",
   "execution_count": 1,
   "id": "75325984",
   "metadata": {},
   "outputs": [],
   "source": [
    "def isIsomorphic(s,t):\n",
    "    if len(s) != len(t):\n",
    "        return False\n",
    "        \n",
    "    s_to_t = {}\n",
    "    t_to_s = {}\n",
    "    for i in range(len(s)):\n",
    "        if s[i] not in s_to_t and t[i] not in t_to_s:\n",
    "            s_to_t[s[i]] = t[i]\n",
    "            t_to_s[t[i]] = s[i]\n",
    "        elif s[i] in s_to_t and s_to_t[s[i]] == t[i]:\n",
    "            continue\n",
    "        else:\n",
    "            return False\n",
    "            \n",
    "    return True"
   ]
  },
  {
   "cell_type": "code",
   "execution_count": 2,
   "id": "3e8efa1d",
   "metadata": {},
   "outputs": [
    {
     "data": {
      "text/plain": [
       "True"
      ]
     },
     "execution_count": 2,
     "metadata": {},
     "output_type": "execute_result"
    }
   ],
   "source": [
    "s = \"egg\"\n",
    "t = \"add\"\n",
    "isIsomorphic(s,t)"
   ]
  },
  {
   "cell_type": "markdown",
   "id": "d90677d1",
   "metadata": {},
   "source": [
    "### Sol 2 Given a string num which represents an integer, return true if num is a strobogrammatic number."
   ]
  },
  {
   "cell_type": "code",
   "execution_count": 3,
   "id": "89259b65",
   "metadata": {},
   "outputs": [],
   "source": [
    "def isStrobogrammatic(num):\n",
    "      \n",
    "    maps = {(\"0\", \"0\"), (\"1\", \"1\"), (\"6\", \"9\"), (\"8\", \"8\"), (\"9\", \"6\")}\n",
    "    i,j = 0, len(num) - 1\n",
    "    while i <= j:\n",
    "        if (num[i], num[j]) not in maps:\n",
    "            return False\n",
    "        i += 1\n",
    "        j -= 1\n",
    "    return True"
   ]
  },
  {
   "cell_type": "code",
   "execution_count": 4,
   "id": "b0c34d81",
   "metadata": {},
   "outputs": [
    {
     "data": {
      "text/plain": [
       "True"
      ]
     },
     "execution_count": 4,
     "metadata": {},
     "output_type": "execute_result"
    }
   ],
   "source": [
    "isStrobogrammatic(\"69\")"
   ]
  },
  {
   "cell_type": "markdown",
   "id": "a3a729c2",
   "metadata": {},
   "source": [
    "### Sol 3 Given two non-negative integers, num1 and num2 represented as string, return the sum of num1 and num2 as a string."
   ]
  },
  {
   "cell_type": "code",
   "execution_count": 5,
   "id": "c93e2612",
   "metadata": {},
   "outputs": [],
   "source": [
    "def addStrings(num1, num2):\n",
    "        def str_to_int(n):\n",
    "            integer = {'0':0,'1':1,'2':2,'3':3,'4':4,'5':5,'6':6,'7':7,'8':8,'9':9}\n",
    "            # dictionary to map every character to its integer value\n",
    "            num = 0\n",
    "            for i in n:\n",
    "                # traversing the string to add the ones,tens,hundreds of the digit etc\n",
    "                num = num*10 + integer[i]\n",
    "            return num\n",
    "        res = str_to_int(num1)+str_to_int(num2)\n",
    "        return str(res)"
   ]
  },
  {
   "cell_type": "code",
   "execution_count": 6,
   "id": "6a8304cb",
   "metadata": {},
   "outputs": [
    {
     "data": {
      "text/plain": [
       "'134'"
      ]
     },
     "execution_count": 6,
     "metadata": {},
     "output_type": "execute_result"
    }
   ],
   "source": [
    "num1 = \"11\"\n",
    "num2 = \"123\"\n",
    "\n",
    "addStrings(num1, num2)"
   ]
  },
  {
   "cell_type": "markdown",
   "id": "40a5648b",
   "metadata": {},
   "source": [
    "### Sol 4 Given a string s, reverse the order of characters in each word within a sentence while still preserving whitespace and initial word order."
   ]
  },
  {
   "cell_type": "code",
   "execution_count": 7,
   "id": "23fbda50",
   "metadata": {},
   "outputs": [],
   "source": [
    "### Sol 4\n",
    "\n",
    "def reverseWords(s):\n",
    "        s_list = s.split(\" \")\n",
    "        return \" \".join([item[::-1] for item in s_list])"
   ]
  },
  {
   "cell_type": "code",
   "execution_count": 8,
   "id": "aed76dda",
   "metadata": {},
   "outputs": [
    {
     "data": {
      "text/plain": [
       "\"s'teL ekat edoCteeL tsetnoc\""
      ]
     },
     "execution_count": 8,
     "metadata": {},
     "output_type": "execute_result"
    }
   ],
   "source": [
    "s = \"Let's take LeetCode contest\"\n",
    "reverseWords(s)"
   ]
  },
  {
   "cell_type": "markdown",
   "id": "a8344a7b",
   "metadata": {},
   "source": [
    "### Sol 5 Given a string s and an integer k, reverse the first k characters for every 2k characters counting from the start of the string.If there are fewer than k characters left, reverse all of them. If there are less than 2k but greater than or equal to k characters, then reverse the first k characters and leave the other as original."
   ]
  },
  {
   "cell_type": "code",
   "execution_count": 9,
   "id": "c97a7137",
   "metadata": {},
   "outputs": [],
   "source": [
    "def reverseStr(s,k):\n",
    "    s3=\"\"\n",
    "    p=0\n",
    "    for i in range(0,len(s),k):\n",
    "        s2=\"\"\n",
    "        s2=s[i:i+k]\n",
    "        if(p%2==0):\n",
    "            s2=s2[::-1]\n",
    "        s3=s3+s2\n",
    "    p=p+1\n",
    "    return s3"
   ]
  },
  {
   "cell_type": "code",
   "execution_count": 10,
   "id": "294454a0",
   "metadata": {},
   "outputs": [
    {
     "data": {
      "text/plain": [
       "'badcfeg'"
      ]
     },
     "execution_count": 10,
     "metadata": {},
     "output_type": "execute_result"
    }
   ],
   "source": [
    "s = \"abcdefg\"\n",
    "k = 2\n",
    "reverseStr(s,k)"
   ]
  },
  {
   "cell_type": "markdown",
   "id": "abb2c76e",
   "metadata": {},
   "source": [
    "### Sol 6 Given two strings s and goal, return true *if and only if* s *can become* goal *after some number of **shifts** on* s.A **shift** on s consists of moving the leftmost character of s to the rightmost position.\n",
    "\n",
    "- For example, if s = \"abcde\", then it will be \"bcdea\" after one shift."
   ]
  },
  {
   "cell_type": "code",
   "execution_count": 11,
   "id": "3a477f34",
   "metadata": {},
   "outputs": [],
   "source": [
    "def rotateString(s,goal):\n",
    "        \n",
    "        for i in range(len(s)):\n",
    "            s = s[1:]+s[0] #Rotate the string by 1 element\n",
    "            \n",
    "            if(s==goal): #Compare the string with goal.\n",
    "                return True\n",
    "        return False"
   ]
  },
  {
   "cell_type": "code",
   "execution_count": 12,
   "id": "4317d63c",
   "metadata": {},
   "outputs": [
    {
     "data": {
      "text/plain": [
       "True"
      ]
     },
     "execution_count": 12,
     "metadata": {},
     "output_type": "execute_result"
    }
   ],
   "source": [
    "s = \"abcde\"\n",
    "goal = \"cdeab\"\n",
    "rotateString(s,goal)"
   ]
  },
  {
   "cell_type": "markdown",
   "id": "e1d98998",
   "metadata": {},
   "source": [
    "### Sol 7 Given two strings s and t, return true *if they are equal when both are typed into empty text editors*. '#' means a backspace character.Note that after backspacing an empty text, the text will continue empty."
   ]
  },
  {
   "cell_type": "code",
   "execution_count": 13,
   "id": "ce305dff",
   "metadata": {},
   "outputs": [],
   "source": [
    "def backspaceCompare(s,t):\n",
    "    s_backspaced = []\n",
    "    t_backspaced = []\n",
    "        \n",
    "    for i in range(len(s)):\n",
    "        if s[i] == '#':\n",
    "            if s_backspaced:\n",
    "                 s_backspaced.pop()\n",
    "        else:\n",
    "            s_backspaced.append(s[i])\n",
    "            \n",
    "    for i in range(len(t)):\n",
    "        if t[i] == '#':\n",
    "            if t_backspaced:\n",
    "                t_backspaced.pop()\n",
    "        else:\n",
    "            t_backspaced.append(t[i])\n",
    "        \n",
    "    return s_backspaced == t_backspaced\n"
   ]
  },
  {
   "cell_type": "code",
   "execution_count": 14,
   "id": "bb1c782d",
   "metadata": {},
   "outputs": [
    {
     "data": {
      "text/plain": [
       "True"
      ]
     },
     "execution_count": 14,
     "metadata": {},
     "output_type": "execute_result"
    }
   ],
   "source": [
    "s = \"ab#c\"\n",
    "t = \"ad#c\"\n",
    "backspaceCompare(s,t)"
   ]
  },
  {
   "cell_type": "markdown",
   "id": "f76b5cb4",
   "metadata": {},
   "source": [
    "### Sol 8 You are given an array coordinates, coordinates[i] = [x, y], where [x, y] represents the coordinate of a point. Check if these points make a straight line in the XY plane."
   ]
  },
  {
   "cell_type": "code",
   "execution_count": 15,
   "id": "48d44588",
   "metadata": {},
   "outputs": [],
   "source": [
    "def checkStraightLine(coordinates):\n",
    "    (x1, y1), (x2, y2) = coordinates[0], coordinates[1]\n",
    "\n",
    "    for x3, y3 in coordinates[2:]:\n",
    "        if (y2 - y1) * (x3 - x1) != (y3 - y1) * (x2 - x1):\n",
    "            return False\n",
    "    return True\n",
    "\n",
    "coordinates = [[1,2],[2,3],[3,4],[4,5],[5,6],[6,7]]"
   ]
  }
 ],
 "metadata": {
  "kernelspec": {
   "display_name": "Python 3 (ipykernel)",
   "language": "python",
   "name": "python3"
  },
  "language_info": {
   "codemirror_mode": {
    "name": "ipython",
    "version": 3
   },
   "file_extension": ".py",
   "mimetype": "text/x-python",
   "name": "python",
   "nbconvert_exporter": "python",
   "pygments_lexer": "ipython3",
   "version": "3.10.9"
  }
 },
 "nbformat": 4,
 "nbformat_minor": 5
}
