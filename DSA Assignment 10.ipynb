{
 "cells": [
  {
   "cell_type": "markdown",
   "id": "640ebfee",
   "metadata": {},
   "source": [
    "### Sol 1 Given an integer `n`, return *`true` if it is a power of three. Otherwise, return `false`*.An integer `n` is a power of three, if there exists an integer `x` such that `n == 3x`"
   ]
  },
  {
   "cell_type": "code",
   "execution_count": 1,
   "id": "698f6fc7",
   "metadata": {},
   "outputs": [],
   "source": [
    "def isPowerOfThree(n):\n",
    "        if n<1:\n",
    "            return False\n",
    "        while(n%3 ==0):\n",
    "            n=n//3\n",
    "        return n==1  "
   ]
  },
  {
   "cell_type": "code",
   "execution_count": 2,
   "id": "d2b7ff5f",
   "metadata": {},
   "outputs": [
    {
     "name": "stdout",
     "output_type": "stream",
     "text": [
      "True\n",
      "False\n",
      "False\n"
     ]
    }
   ],
   "source": [
    "print(isPowerOfThree(27))\n",
    "print(isPowerOfThree(0))\n",
    "print(isPowerOfThree(-1))  "
   ]
  },
  {
   "cell_type": "markdown",
   "id": "b35199bb",
   "metadata": {},
   "source": [
    "### Sol 2 You have a list `arr` of all integers in the range `[1, n]` sorted in a strictly increasing order. Apply the following algorithm on `arr`:\n",
    "\n",
    "- Starting from left to right, remove the first number and every other number afterward until you reach the end of the list.\n",
    "- Repeat the previous step again, but this time from right to left, remove the rightmost number and every other number from the remaining numbers.\n",
    "- Keep repeating the steps again, alternating left to right and right to left, until a single number remains.\n",
    "\n",
    "Given the integer `n`, return *the last number that remains in* `arr`."
   ]
  },
  {
   "cell_type": "code",
   "execution_count": 3,
   "id": "fc80c296",
   "metadata": {},
   "outputs": [],
   "source": [
    "def lastRemaining(n):\n",
    "        a, b, step = 1, 0, 0\n",
    "\n",
    "        while n > 1:\n",
    "            if n % 2 == 0 and step % 2 == 1:\n",
    "                b -= a\n",
    "            a *= 2\n",
    "            step += 1\n",
    "            n = (n - (n % 2 == 1)) // 2\n",
    "\n",
    "        return a + b   "
   ]
  },
  {
   "cell_type": "code",
   "execution_count": 4,
   "id": "b0f54b5e",
   "metadata": {},
   "outputs": [
    {
     "data": {
      "text/plain": [
       "6"
      ]
     },
     "execution_count": 4,
     "metadata": {},
     "output_type": "execute_result"
    }
   ],
   "source": [
    "lastRemaining(9)"
   ]
  },
  {
   "cell_type": "markdown",
   "id": "d1790f40",
   "metadata": {},
   "source": [
    "### Sol 4 Given a string calculate length of the string using recursion."
   ]
  },
  {
   "cell_type": "code",
   "execution_count": 5,
   "id": "2ccb581a",
   "metadata": {},
   "outputs": [],
   "source": [
    "def string_length(str) :\n",
    "     \n",
    "    # if we reach at the\n",
    "    # end of the string\n",
    "    if str == '':\n",
    "        return 0\n",
    "    else :\n",
    "        return 1 + string_length(str[1:])"
   ]
  },
  {
   "cell_type": "code",
   "execution_count": 6,
   "id": "238bd01a",
   "metadata": {},
   "outputs": [
    {
     "data": {
      "text/plain": [
       "4"
      ]
     },
     "execution_count": 6,
     "metadata": {},
     "output_type": "execute_result"
    }
   ],
   "source": [
    "str=\"abcd\"\n",
    "string_length(str)"
   ]
  },
  {
   "cell_type": "markdown",
   "id": "e78b16b3",
   "metadata": {},
   "source": [
    "### Sol 5  We are given a string S, we need to find count of all contiguous substrings starting and ending with same character."
   ]
  },
  {
   "cell_type": "code",
   "execution_count": 7,
   "id": "5d9e7315",
   "metadata": {},
   "outputs": [],
   "source": [
    "def countSubstringWithEqualEnds(s):\n",
    " \n",
    "    result = 0;\n",
    "    n = len(s);\n",
    " \n",
    "    # Iterating through all substrings in\n",
    "    # way so that we can find first and\n",
    "    # last character easily\n",
    "    for i in range(n):\n",
    "        for j in range(i, n):\n",
    "            if (s[i] == s[j]):\n",
    "                result = result + 1\n",
    " \n",
    "    return result"
   ]
  },
  {
   "cell_type": "code",
   "execution_count": 8,
   "id": "ab5591f0",
   "metadata": {},
   "outputs": [
    {
     "data": {
      "text/plain": [
       "7"
      ]
     },
     "execution_count": 8,
     "metadata": {},
     "output_type": "execute_result"
    }
   ],
   "source": [
    "s=\"abcab\"\n",
    "countSubstringWithEqualEnds(s)"
   ]
  },
  {
   "cell_type": "markdown",
   "id": "1eb44d00",
   "metadata": {},
   "source": [
    "### Sol 7 Given a string str, the task is to print all the permutations of str. A permutation is an arrangement of all or part of a set of objects, with regard to the order of the arrangement. For instance, the words ‘bat’ and ‘tab’ represents two distinct permutation (or arrangements) of a similar three letter word."
   ]
  },
  {
   "cell_type": "code",
   "execution_count": 9,
   "id": "ae436894",
   "metadata": {},
   "outputs": [],
   "source": [
    "def toString(List):\n",
    "    return ''.join(List)\n",
    "\n",
    "\n",
    "def permute(a, l, r):\n",
    "    if l == r:\n",
    "        print(toString(a))\n",
    "    else:\n",
    "        for i in range(l, r):\n",
    "            a[l], a[i] = a[i], a[l]\n",
    "            permute(a, l+1, r)\n",
    "            a[l], a[i] = a[i], a[l]  "
   ]
  },
  {
   "cell_type": "code",
   "execution_count": 10,
   "id": "6a9bd93e",
   "metadata": {},
   "outputs": [
    {
     "name": "stdout",
     "output_type": "stream",
     "text": [
      "CD\n",
      "DC\n"
     ]
    }
   ],
   "source": [
    "string = \"CD\"\n",
    "n = len(string)\n",
    "a = list(string)\n",
    "permute(a,0,n)"
   ]
  },
  {
   "cell_type": "markdown",
   "id": "249800f6",
   "metadata": {},
   "source": [
    "### Sol 8 Given a string, count total number of consonants in it. A consonant is an English alphabet character that is not vowel (a, e, i, o and u). Examples of constants are b, c, d, f, and g."
   ]
  },
  {
   "cell_type": "code",
   "execution_count": 11,
   "id": "6017a251",
   "metadata": {},
   "outputs": [],
   "source": [
    "### Sol 8\n",
    "\n",
    "def isConsonant(ch):\n",
    "      \n",
    "    # To handle lower case\n",
    "    ch = ch.upper()\n",
    "  \n",
    "    return not (ch == 'A' or ch == 'E' or \n",
    "                ch == 'I' or ch == 'O' or \n",
    "                ch == 'U') and ord(ch) >= 65 and ord(ch) <= 90\n",
    "  \n",
    "# To count total number of  \n",
    "# consonants from 0 to n-1\n",
    "def totalConsonants(string, n):\n",
    "      \n",
    "    if n == 1:\n",
    "        return isConsonant(string[0])\n",
    "  \n",
    "    return totalConsonants(string, n - 1) + isConsonant(string[n-1])"
   ]
  },
  {
   "cell_type": "code",
   "execution_count": 12,
   "id": "d308bedd",
   "metadata": {},
   "outputs": [
    {
     "name": "stdout",
     "output_type": "stream",
     "text": [
      "3\n"
     ]
    }
   ],
   "source": [
    "string = \"abc de\"\n",
    "print(totalConsonants(string, len(string)))"
   ]
  }
 ],
 "metadata": {
  "kernelspec": {
   "display_name": "Python 3 (ipykernel)",
   "language": "python",
   "name": "python3"
  },
  "language_info": {
   "codemirror_mode": {
    "name": "ipython",
    "version": 3
   },
   "file_extension": ".py",
   "mimetype": "text/x-python",
   "name": "python",
   "nbconvert_exporter": "python",
   "pygments_lexer": "ipython3",
   "version": "3.10.9"
  }
 },
 "nbformat": 4,
 "nbformat_minor": 5
}
